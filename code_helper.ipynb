{
 "cells": [
  {
   "cell_type": "code",
   "execution_count": 26,
   "metadata": {},
   "outputs": [
    {
     "name": "stdout",
     "output_type": "stream",
     "text": [
      "{'example_file.js': {'anonymous_function': {'calls': [], 'called_by': [], 'source': '() => {\\r\\n    console.log(\"Arrow Function Called\");\\r\\n}'}, 'constructor': {'calls': [], 'called_by': [], 'source': 'constructor() {\\r\\n        this.myMethod();\\r\\n    }'}, 'myMethod': {'calls': [], 'called_by': [], 'source': 'myMethod() {\\r\\n        externalFunction();\\r\\n    }'}, 'externalFunction': {'calls': [], 'called_by': [], 'source': 'function externalFunction() {\\r\\n    arrowFunc();\\r\\n}'}, 'shorthandMethod': {'calls': [], 'called_by': [], 'source': 'shorthandMethod() {\\r\\n        arrowFunc();\\r\\n    }'}}}\n"
     ]
    }
   ],
   "source": [
    "import os\n",
    "from tree_sitter import Language, Parser\n",
    "\n",
    "import tree_sitter_languages as tsl\n",
    "language = tsl.get_language('javascript')\n",
    "parser = tsl.get_parser('javascript')\n",
    "\n",
    "def get_source_code(node, source_bytes):\n",
    "    return source_bytes[node.start_byte:node.end_byte].decode('utf8')\n",
    "\n",
    "def is_function_node(node):\n",
    "    return node.type in ['function', 'function_declaration', 'arrow_function', 'method_definition']\n",
    "\n",
    "def get_function_name(node, source_bytes):\n",
    "    if node.type in ['function_declaration', 'function', 'method_definition']:\n",
    "        name_node = node.child_by_field_name('name')\n",
    "        if name_node is not None and name_node.type != 'MISSING':\n",
    "            return get_source_code(name_node, source_bytes)\n",
    "    return 'anonymous_function'\n",
    "\n",
    "def traverse(node, source_bytes, function_calls, current_function=None):\n",
    "    is_function = is_function_node(node)\n",
    "    if is_function:\n",
    "        function_name = get_function_name(node, source_bytes)\n",
    "        function_source = get_source_code(node, source_bytes)\n",
    "        if function_name not in function_calls:\n",
    "            function_calls[function_name] = {\n",
    "                'calls': [],\n",
    "                'called_by': [],\n",
    "                'source': function_source\n",
    "            }\n",
    "        current_function = function_name\n",
    "\n",
    "    if node.type == 'call_expression':\n",
    "        callee_node = node.child_by_field_name('callee')\n",
    "        if callee_node is not None and callee_node.type != 'MISSING':\n",
    "            called_function = get_source_code(callee_node, source_bytes)\n",
    "            if current_function and called_function:\n",
    "                function_calls[current_function]['calls'].append(called_function)\n",
    "                if called_function not in function_calls:\n",
    "                    function_calls[called_function] = {'calls': [], 'called_by': [], 'source': ''}\n",
    "                function_calls[called_function]['called_by'].append(current_function)\n",
    "\n",
    "    for child in node.children:\n",
    "        traverse(child, source_bytes, function_calls, current_function if is_function else current_function)\n",
    "\n",
    "def parse_file(file_path):\n",
    "    with open(file_path, 'rb') as file:\n",
    "        source_bytes = file.read()\n",
    "\n",
    "    tree = parser.parse(source_bytes)\n",
    "    function_calls = {}\n",
    "    traverse(tree.root_node, source_bytes, function_calls)\n",
    "    return function_calls\n",
    "\n",
    "def parse_directory(directory_path):\n",
    "    all_function_calls = {}\n",
    "    for root, dirs, files in os.walk(directory_path):\n",
    "        for file in files:\n",
    "            if file.endswith('.js'):\n",
    "                file_path = os.path.join(root, file)\n",
    "                all_function_calls[file] = parse_file(file_path)\n",
    "    return all_function_calls\n",
    "\n",
    "# Example usage\n",
    "directory_path = './'\n",
    "project_function_calls = parse_directory(directory_path)\n",
    "print(project_function_calls)\n"
   ]
  },
  {
   "cell_type": "code",
   "execution_count": 27,
   "metadata": {},
   "outputs": [
    {
     "data": {
      "text/plain": [
       "{'example_file.js': {'anonymous_function': {'calls': [],\n",
       "   'called_by': [],\n",
       "   'source': '() => {\\r\\n    console.log(\"Arrow Function Called\");\\r\\n}'},\n",
       "  'constructor': {'calls': [],\n",
       "   'called_by': [],\n",
       "   'source': 'constructor() {\\r\\n        this.myMethod();\\r\\n    }'},\n",
       "  'myMethod': {'calls': [],\n",
       "   'called_by': [],\n",
       "   'source': 'myMethod() {\\r\\n        externalFunction();\\r\\n    }'},\n",
       "  'externalFunction': {'calls': [],\n",
       "   'called_by': [],\n",
       "   'source': 'function externalFunction() {\\r\\n    arrowFunc();\\r\\n}'},\n",
       "  'shorthandMethod': {'calls': [],\n",
       "   'called_by': [],\n",
       "   'source': 'shorthandMethod() {\\r\\n        arrowFunc();\\r\\n    }'}}}"
      ]
     },
     "execution_count": 27,
     "metadata": {},
     "output_type": "execute_result"
    }
   ],
   "source": [
    "project_function_calls"
   ]
  },
  {
   "cell_type": "code",
   "execution_count": null,
   "metadata": {},
   "outputs": [],
   "source": []
  }
 ],
 "metadata": {
  "kernelspec": {
   "display_name": "autogen",
   "language": "python",
   "name": "python3"
  },
  "language_info": {
   "codemirror_mode": {
    "name": "ipython",
    "version": 3
   },
   "file_extension": ".py",
   "mimetype": "text/x-python",
   "name": "python",
   "nbconvert_exporter": "python",
   "pygments_lexer": "ipython3",
   "version": "3.11.4"
  }
 },
 "nbformat": 4,
 "nbformat_minor": 2
}
